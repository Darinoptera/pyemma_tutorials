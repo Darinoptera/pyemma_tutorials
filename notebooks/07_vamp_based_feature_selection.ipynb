{
 "cells": [
  {
   "cell_type": "markdown",
   "metadata": {},
   "source": [
    "VAMP score based feature selection\n",
    "=============================\n",
    "\n"
   ]
  },
  {
   "cell_type": "code",
   "execution_count": null,
   "metadata": {},
   "outputs": [],
   "source": [
    "%%javascript\n",
    "Jupyter.utils.load_extensions('rubberband/main')\n",
    "Jupyter.utils.load_extensions('exercise2/main')"
   ]
  },
  {
   "cell_type": "code",
   "execution_count": null,
   "metadata": {},
   "outputs": [],
   "source": [
    "%matplotlib inline\n",
    "import matplotlib.pyplot as plt\n",
    "import numpy as np\n",
    "import mdshare\n",
    "import pyemma"
   ]
  },
  {
   "cell_type": "code",
   "execution_count": null,
   "metadata": {},
   "outputs": [],
   "source": [
    "pdb = mdshare.fetch('alanine-dipeptide-nowater.pdb', working_directory='data')\n",
    "files = mdshare.fetch('alanine-dipeptide-*-250ns-nowater.dcd', working_directory='data')\n",
    "print(pdb)\n",
    "print(files)"
   ]
  },
  {
   "cell_type": "markdown",
   "metadata": {},
   "source": [
    "We split the available data into test and train sets. The first two realizations are used for training, while the last trajectory will be used for evaluating the score (the test set). A reader is created with the minimum RMSD to a reference feature. This reader is passed on to the VAMP estimator"
   ]
  },
  {
   "cell_type": "code",
   "execution_count": null,
   "metadata": {},
   "outputs": [],
   "source": [
    "train_set = files[:2]\n",
    "test_set = files[-1]\n",
    "\n",
    "reader_rmsd = pyemma.coordinates.source(train_set, top=pdb)\n",
    "reader_rmsd.featurizer.add_minrmsd_to_ref(pdb)\n",
    "\n",
    "vamp_minRMSD = pyemma.coordinates.vamp(reader_rmsd, lag=10)"
   ]
  },
  {
   "cell_type": "markdown",
   "metadata": {},
   "source": [
    "The score is being computed on the test set"
   ]
  },
  {
   "cell_type": "code",
   "execution_count": null,
   "metadata": {},
   "outputs": [],
   "source": [
    "reader_test_data = pyemma.coordinates.source(test_set, top=pdb)\n",
    "reader_test_data.featurizer.add_minrmsd_to_ref(pdb)\n",
    "\n",
    "vamp_minRMSD.score(reader_test_data)"
   ]
  },
  {
   "cell_type": "code",
   "execution_count": null,
   "metadata": {},
   "outputs": [],
   "source": [
    "reader_bt = pyemma.coordinates.source(files[:2], top=pdb)\n",
    "reader_bt.featurizer.add_backbone_torsions()\n",
    "\n",
    "vamp_bt = pyemma.coordinates.vamp(reader_bt, lag=10)"
   ]
  },
  {
   "cell_type": "markdown",
   "metadata": {},
   "source": [
    "We now switch the active feature to backbone torsion angles."
   ]
  },
  {
   "cell_type": "code",
   "execution_count": null,
   "metadata": {},
   "outputs": [],
   "source": [
    "reader_test_data.featurizer.active_features = []\n",
    "reader_test_data.featurizer.add_backbone_torsions()\n",
    "vamp_bt.score(reader_test_data)"
   ]
  },
  {
   "cell_type": "markdown",
   "metadata": {},
   "source": [
    "Now lets check, whether the higher vamp score of the backbone torsion angles is related to the timescales when we build a kinetic model. First we have a look at the feature histogram to get an idea how to discretize it."
   ]
  },
  {
   "cell_type": "code",
   "execution_count": null,
   "metadata": {},
   "outputs": [],
   "source": [
    "reader_rmsd = pyemma.coordinates.source(files, top=pdb)\n",
    "reader_rmsd.featurizer.add_minrmsd_to_ref(pdb)\n",
    "data = reader_rmsd.get_output()\n",
    "\n",
    "ax = pyemma.plots.plot_feature_histograms(np.concatenate(data))\n",
    "ax.set_title('Minimum RMSD to reference')\n",
    "ax;"
   ]
  },
  {
   "cell_type": "markdown",
   "metadata": {},
   "source": [
    "Now we disretize this one dimensional space into ten states."
   ]
  },
  {
   "cell_type": "code",
   "execution_count": null,
   "metadata": {},
   "outputs": [],
   "source": [
    "cl_rmsd = pyemma.coordinates.cluster_kmeans(data, k=10)"
   ]
  },
  {
   "cell_type": "markdown",
   "metadata": {},
   "source": [
    "... and have a look at the resolved timescales."
   ]
  },
  {
   "cell_type": "code",
   "execution_count": null,
   "metadata": {},
   "outputs": [],
   "source": [
    "its_rmsd = pyemma.msm.its(cl_rmsd.dtrajs, lags=60)\n",
    "ax = pyemma.plots.plot_implied_timescales(its_rmsd)\n",
    "ax.set_title('Implied timescales for minRMSD, 10 kmeans clusters.');"
   ]
  },
  {
   "cell_type": "markdown",
   "metadata": {},
   "source": [
    "By inspection of the implied timescales, we see only one process, which is only closely above the actual lag time and does not seem to be converged either. Now lets compute the VAMP score for a Markov state model at a lag time of interest."
   ]
  },
  {
   "cell_type": "code",
   "execution_count": null,
   "metadata": {},
   "outputs": [],
   "source": [
    "msm_rmsd = pyemma.msm.estimate_markov_model(cl_rmsd.dtrajs, lag=40)\n",
    "msm_rmsd.score(cl_rmsd.dtrajs)"
   ]
  },
  {
   "cell_type": "code",
   "execution_count": null,
   "metadata": {},
   "outputs": [],
   "source": []
  },
  {
   "cell_type": "code",
   "execution_count": null,
   "metadata": {},
   "outputs": [],
   "source": [
    "reader_backbone_torsions = pyemma.coordinates.source(files, top=pdb)\n",
    "reader_backbone_torsions.featurizer.add_backbone_torsions()\n",
    "cl_backbone_torsions = pyemma.coordinates.cluster_kmeans(reader_backbone_torsions, k=60)"
   ]
  },
  {
   "cell_type": "code",
   "execution_count": null,
   "metadata": {},
   "outputs": [],
   "source": [
    "its_bt = pyemma.msm.its(cl_backbone_torsions.dtrajs, lags=2000)\n",
    "pyemma.plots.plot_implied_timescales(its_bt)"
   ]
  },
  {
   "cell_type": "code",
   "execution_count": null,
   "metadata": {},
   "outputs": [],
   "source": [
    "msm_bt = pyemma.msm.estimate_markov_model(cl_backbone_torsions.dtrajs, lag=10)\n",
    "msm_bt.score(cl_backbone_torsions.dtrajs, score_k=2)"
   ]
  },
  {
   "cell_type": "code",
   "execution_count": null,
   "metadata": {},
   "outputs": [],
   "source": [
    "Pentapeptide"
   ]
  }
 ],
 "metadata": {
  "kernelspec": {
   "display_name": "Python 3",
   "language": "python",
   "name": "python3"
  },
  "language_info": {
   "codemirror_mode": {
    "name": "ipython",
    "version": 3
   },
   "file_extension": ".py",
   "mimetype": "text/x-python",
   "name": "python",
   "nbconvert_exporter": "python",
   "pygments_lexer": "ipython3",
   "version": "3.6.5"
  }
 },
 "nbformat": 4,
 "nbformat_minor": 2
}
