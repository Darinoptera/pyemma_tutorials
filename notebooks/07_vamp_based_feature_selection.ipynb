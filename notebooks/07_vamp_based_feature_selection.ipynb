{
 "cells": [
  {
   "cell_type": "markdown",
   "metadata": {},
   "source": [
    "VAMP score based feature selection\n",
    "=============================\n",
    "\n"
   ]
  },
  {
   "cell_type": "code",
   "execution_count": null,
   "metadata": {},
   "outputs": [],
   "source": [
    "%%javascript\n",
    "Jupyter.utils.load_extensions('rubberband/main')\n",
    "Jupyter.utils.load_extensions('exercise2/main')"
   ]
  },
  {
   "cell_type": "code",
   "execution_count": null,
   "metadata": {},
   "outputs": [],
   "source": [
    "%matplotlib inline\n",
    "import matplotlib.pyplot as plt\n",
    "import numpy as np\n",
    "import mdshare\n",
    "import pyemma"
   ]
  },
  {
   "cell_type": "code",
   "execution_count": null,
   "metadata": {},
   "outputs": [],
   "source": [
    "pdb = mdshare.fetch('alanine-dipeptide-nowater.pdb', working_directory='data')\n",
    "files = mdshare.fetch('alanine-dipeptide-*-250ns-nowater.dcd', working_directory='data')\n",
    "print(pdb)\n",
    "print(files)"
   ]
  },
  {
   "cell_type": "code",
   "execution_count": null,
   "metadata": {},
   "outputs": [],
   "source": [
    "reader_rmsd = pyemma.coordinates.source(files[:2], top=pdb)\n",
    "reader_rmsd.featurizer.add_minrmsd_to_ref(pdb)\n",
    "\n",
    "vamp_minRMSD = pyemma.coordinates.vamp(reader_rmsd, lag=10)"
   ]
  },
  {
   "cell_type": "code",
   "execution_count": null,
   "metadata": {},
   "outputs": [],
   "source": [
    "test_data = pyemma.coordinates.source(files[-1], top=pdb)\n",
    "test_data.featurizer.add_minrmsd_to_ref(pdb)\n",
    "\n",
    "vamp_minRMSD.score(test_data)"
   ]
  },
  {
   "cell_type": "code",
   "execution_count": null,
   "metadata": {},
   "outputs": [],
   "source": [
    "reader.featurizer.active_features = []\n",
    "reader.featurizer.add_backbone_torsions()\n",
    "\n",
    "vamp_backbone_torsions = pyemma.coordinates.vamp(reader, lag=10)"
   ]
  },
  {
   "cell_type": "code",
   "execution_count": null,
   "metadata": {},
   "outputs": [],
   "source": [
    "test_data.featurizer.active_features = []\n",
    "test_data.featurizer.add_backbone_torsions()\n",
    "vamp_backbone_torsions.score(test_data)"
   ]
  },
  {
   "cell_type": "markdown",
   "metadata": {},
   "source": [
    "Now lets check, whether the higher vamp score is related when we build a kinetic model"
   ]
  },
  {
   "cell_type": "code",
   "execution_count": null,
   "metadata": {},
   "outputs": [],
   "source": [
    "reader_rmsd = pyemma.coordinates.source(files, top=pdb)\n",
    "reader_rmsd.featurizer.add_minrmsd_to_ref(pdb)\n",
    "cl_rmsd = pyemma.coordinates.cluster_kmeans(reader_rmsd, k=10)"
   ]
  },
  {
   "cell_type": "code",
   "execution_count": null,
   "metadata": {},
   "outputs": [],
   "source": [
    "its_rmsd = pyemma.msm.its(cl.dtrajs, lags=100)\n",
    "pyemma.plots.plot_implied_timescales(its_rmsd)"
   ]
  },
  {
   "cell_type": "code",
   "execution_count": null,
   "metadata": {},
   "outputs": [],
   "source": [
    "msm_rmsd = pyemma.msm.estimate_markov_model(cl_rmsd.dtrajs, lag=10)\n",
    "msm_rmsd.score(cl_rmsd.dtrajs, score_k=2)"
   ]
  },
  {
   "cell_type": "code",
   "execution_count": null,
   "metadata": {},
   "outputs": [],
   "source": []
  },
  {
   "cell_type": "code",
   "execution_count": null,
   "metadata": {},
   "outputs": [],
   "source": [
    "reader_backbone_torsions = pyemma.coordinates.source(files, top=pdb)\n",
    "reader_backbone_torsions.featurizer.add_backbone_torsions()\n",
    "cl_backbone_torsions = pyemma.coordinates.cluster_kmeans(reader_backbone_torsions, k=60)"
   ]
  },
  {
   "cell_type": "code",
   "execution_count": null,
   "metadata": {},
   "outputs": [],
   "source": [
    "its_bt = pyemma.msm.its(cl_backbone_torsions.dtrajs, lags=2000)\n",
    "pyemma.plots.plot_implied_timescales(its_bt)"
   ]
  },
  {
   "cell_type": "code",
   "execution_count": null,
   "metadata": {},
   "outputs": [],
   "source": [
    "msm_bt = pyemma.msm.estimate_markov_model(cl_backbone_torsions.dtrajs, lag=10)\n",
    "msm_bt.score(cl_backbone_torsions.dtrajs, score_k=2)"
   ]
  },
  {
   "cell_type": "code",
   "execution_count": null,
   "metadata": {},
   "outputs": [],
   "source": [
    "Pentapeptide"
   ]
  }
 ],
 "metadata": {
  "kernelspec": {
   "display_name": "Python 3",
   "language": "python",
   "name": "python3"
  },
  "language_info": {
   "codemirror_mode": {
    "name": "ipython",
    "version": 3
   },
   "file_extension": ".py",
   "mimetype": "text/x-python",
   "name": "python",
   "nbconvert_exporter": "python",
   "pygments_lexer": "ipython3",
   "version": "3.6.5"
  }
 },
 "nbformat": 4,
 "nbformat_minor": 2
}
