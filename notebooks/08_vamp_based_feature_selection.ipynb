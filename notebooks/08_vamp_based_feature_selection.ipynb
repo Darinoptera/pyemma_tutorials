{
 "cells": [
  {
   "cell_type": "markdown",
   "metadata": {},
   "source": [
    "# VAMP score based feature selection\n",
    "\n",
    "The first step to build a Markov state model is to choose a good set of collective variables to later on discretize the state space into disjoint sets. We have seen in earlier tutorial steps that this step has a huge impact on the ability to build a good model. To a certain extend Hidden Markov state models have been shown to circumvent problems arising from choosing a poor set of coordinates, but if we can make a good choice a priori this would be preferable.\n",
    "\n",
    "In this tutorial we are going to show you how to benchmark a set of coordinates at the beginning of the pipeline, instead of performing discretization and kinetic model building and validation to get the answer that we could have made a bad choice in the first place.\n",
    "\n",
    "The VAMP score helps us judging if we are using a set of coordinates, which contains more or less kinetic information. To estimate the score, PyEMMA needs to estimate three covariance matrices from your data, namely the input coordinates:\n",
    "\n",
    "$ C_{00}, C_{10}, C_{11}$\n",
    "\n",
    "where 1 denotes the correlation with a time-shifted $X$."
   ]
  },
  {
   "cell_type": "code",
   "execution_count": null,
   "metadata": {},
   "outputs": [],
   "source": [
    "%%javascript\n",
    "Jupyter.utils.load_extensions('rubberband/main')\n",
    "Jupyter.utils.load_extensions('exercise2/main')"
   ]
  },
  {
   "cell_type": "code",
   "execution_count": null,
   "metadata": {},
   "outputs": [],
   "source": [
    "%matplotlib inline\n",
    "import matplotlib.pyplot as plt\n",
    "import numpy as np\n",
    "import mdshare\n",
    "import pyemma"
   ]
  },
  {
   "cell_type": "markdown",
   "metadata": {},
   "source": [
    "## Case 1: preprocessed, two-dimensional data (toy model)\n",
    "We load the two-dimensional as well as the true discrete trajectory from an archive using `numpy`..."
   ]
  },
  {
   "cell_type": "code",
   "execution_count": null,
   "metadata": {},
   "outputs": [],
   "source": [
    "file = mdshare.fetch('hmm-doublewell-2d-100k.npz', working_directory='data')\n",
    "with np.load(file) as fh:\n",
    "    data = fh['trajectory']\n",
    "    good_dtraj = fh['discrete_trajectory']"
   ]
  },
  {
   "cell_type": "markdown",
   "metadata": {},
   "source": [
    "Lets select only the x coordinates to discretize state space, we intuitively know that this is a bad model choice. So this should reflect in the VAMP score computed on the input features..."
   ]
  },
  {
   "cell_type": "code",
   "execution_count": null,
   "metadata": {},
   "outputs": [],
   "source": [
    "x = data[:, 0]\n",
    "y = data[:, 1]\n",
    "\n",
    "pyemma.plots.plot_free_energy(x, y)"
   ]
  },
  {
   "cell_type": "code",
   "execution_count": null,
   "metadata": {},
   "outputs": [],
   "source": [
    "vamp = pyemma.coordinates.vamp(x)\n",
    "s_x = vamp.score(x)\n",
    "s_x"
   ]
  },
  {
   "cell_type": "code",
   "execution_count": null,
   "metadata": {},
   "outputs": [],
   "source": [
    "vamp = pyemma.coordinates.vamp(y)\n",
    "s_y = vamp.score(y)\n",
    "s_y"
   ]
  },
  {
   "cell_type": "code",
   "execution_count": null,
   "metadata": {},
   "outputs": [],
   "source": [
    "vamp = pyemma.coordinates.vamp(data)\n",
    "s_all = vamp.score(data)\n",
    "s_all"
   ]
  },
  {
   "cell_type": "code",
   "execution_count": null,
   "metadata": {},
   "outputs": [],
   "source": [
    "print('contribution of x-dimension:', s_all - s_y)"
   ]
  },
  {
   "cell_type": "markdown",
   "metadata": {},
   "source": [
    "We see, that there is almost no kinetic variance along the x-axis, because the meta-stable regions are divided by a shift on the y-axis. The VAMP-2 score reflects how much kinetic variance is contained within a coordinate. The combination of x and y therefore does not increase the score much."
   ]
  },
  {
   "cell_type": "markdown",
   "metadata": {},
   "source": [
    "## Case 2: low-dimensional molecular dynamics data (alanine dipeptide)\n",
    "We fetch the alanine dipeptide data set, load the backbone torsions into memory, and visualize the margial and joint distributions:"
   ]
  },
  {
   "cell_type": "code",
   "execution_count": null,
   "metadata": {},
   "outputs": [],
   "source": [
    "pdb = mdshare.fetch('alanine-dipeptide-nowater.pdb', working_directory='data')\n",
    "files = mdshare.fetch('alanine-dipeptide-*-250ns-nowater.dcd', working_directory='data')\n",
    "print(pdb)\n",
    "print(files)"
   ]
  },
  {
   "cell_type": "markdown",
   "metadata": {},
   "source": [
    "A reader is created with the minimum RMSD to a reference structure. This reader is passed on to the VAMP estimator to compute the covariance matrices on this feature. We specify the lag time for $C_{01}$ to 10 steps."
   ]
  },
  {
   "cell_type": "code",
   "execution_count": null,
   "metadata": {},
   "outputs": [],
   "source": [
    "lag = 10"
   ]
  },
  {
   "cell_type": "code",
   "execution_count": null,
   "metadata": {},
   "outputs": [],
   "source": [
    "reader_rmsd = pyemma.coordinates.source(files, top=pdb)\n",
    "reader_rmsd.featurizer.add_minrmsd_to_ref(pdb)\n",
    "\n",
    "vamp_minRMSD = pyemma.coordinates.vamp(reader_rmsd, lag=lag)\n",
    "vamp_minRMSD.score()"
   ]
  },
  {
   "cell_type": "markdown",
   "metadata": {},
   "source": [
    "Now let us compute the score for the backbone torsion angles."
   ]
  },
  {
   "cell_type": "code",
   "execution_count": null,
   "metadata": {},
   "outputs": [],
   "source": [
    "reader_bt = pyemma.coordinates.source(files, top=pdb)\n",
    "reader_bt.featurizer.add_backbone_torsions()\n",
    "\n",
    "vamp_bt = pyemma.coordinates.vamp(reader_bt, lag=lag)\n",
    "vamp_bt.score()"
   ]
  },
  {
   "cell_type": "markdown",
   "metadata": {},
   "source": [
    "Now lets check, whether the higher VAMP score of the backbone torsion angles is related to the timescales when we build a kinetic model. First of all we have a look at the feature histogram to get an idea how to discretize it."
   ]
  },
  {
   "cell_type": "code",
   "execution_count": null,
   "metadata": {},
   "outputs": [],
   "source": [
    "ax = pyemma.plots.plot_feature_histograms(\n",
    "    np.concatenate(reader_rmsd.get_output()\n",
    "                  ))\n",
    "ax.set_title('Minimum RMSD to reference')"
   ]
  },
  {
   "cell_type": "markdown",
   "metadata": {},
   "source": [
    "Now we disretize this one dimensional space into ten states."
   ]
  },
  {
   "cell_type": "code",
   "execution_count": null,
   "metadata": {},
   "outputs": [],
   "source": [
    "cl_rmsd = pyemma.coordinates.cluster_kmeans(data, k=10, max_iter=50)"
   ]
  },
  {
   "cell_type": "markdown",
   "metadata": {},
   "source": [
    "... and have a look at the resolved timescales."
   ]
  },
  {
   "cell_type": "code",
   "execution_count": null,
   "metadata": {},
   "outputs": [],
   "source": [
    "its_rmsd = pyemma.msm.its(cl_rmsd.dtrajs, lags=60)\n",
    "ax = pyemma.plots.plot_implied_timescales(its_rmsd, nits=9)\n",
    "ax.set_title('Implied timescales for minRMSD, 10 kmeans clusters.');"
   ]
  },
  {
   "cell_type": "markdown",
   "metadata": {},
   "source": [
    "By inspection of the implied timescales, we see only one process, which is only closely above the actual lag time and does not seem to be converged either. Now lets compute the VAMP score for a Markov state model at a lag time of interest."
   ]
  },
  {
   "cell_type": "code",
   "execution_count": null,
   "metadata": {},
   "outputs": [],
   "source": [
    "msm_rmsd = pyemma.msm.estimate_markov_model(cl_rmsd.dtrajs, lag=lag)\n",
    "msm_rmsd.score(cl_rmsd.dtrajs, score_k=3)"
   ]
  },
  {
   "cell_type": "code",
   "execution_count": null,
   "metadata": {},
   "outputs": [],
   "source": [
    "cl_backbone_torsions = pyemma.coordinates.cluster_kmeans(reader_bt, k=50)"
   ]
  },
  {
   "cell_type": "code",
   "execution_count": null,
   "metadata": {},
   "outputs": [],
   "source": [
    "its_bt = pyemma.msm.its(cl_backbone_torsions.dtrajs, lags=60)\n",
    "pyemma.plots.plot_implied_timescales(its_bt, nits=9)"
   ]
  },
  {
   "cell_type": "markdown",
   "metadata": {},
   "source": [
    "The implied timescales are covering three processes at lag times smaller 30 steps and two above. So the backbone torsion feature is much better suited to build a kinetic model than the minimum RMSD feature. This was already visible by inspecting the score of the VAMP estimation, whereas minRMSD yielded $\\tilde{} 1.3$, while backbone torsions got $\\tilde{} 1.4$."
   ]
  },
  {
   "cell_type": "code",
   "execution_count": null,
   "metadata": {},
   "outputs": [],
   "source": [
    "msm_bt = pyemma.msm.estimate_markov_model(cl_backbone_torsions.dtrajs, lag=10)\n",
    "msm_bt.score(cl_backbone_torsions.dtrajs, score_k=3)"
   ]
  },
  {
   "cell_type": "markdown",
   "metadata": {},
   "source": [
    "When we compute the VAMP score for the three slowest processes on the MSM, we see big gap between the two input features again: $\\tilde{} 1.4$ vs $\\tilde{} 2.7$. It is important to limit the number of slow processes in the scoring, because if include everything, we will add noise to the score. The noise consists out of very fast decaying processes below the actual lag time, for which we can not make any statements with the aid of the MSM."
   ]
  },
  {
   "cell_type": "markdown",
   "metadata": {},
   "source": [
    "## Case 3: another molecular dynamics data set (pentapeptide)\n",
    "\n",
    "**Exercise 1**: Fetch the pentapeptide data set, and compare different features in order to find an optimal input feature set. Recall the tutorial about discretization on how to select features. Compare them and discuss why the best scoring feature does describe the slow processes in the system in a physical manner. Ensure that you cap the number of processes to score to a sane number."
   ]
  },
  {
   "cell_type": "code",
   "execution_count": null,
   "metadata": {},
   "outputs": [],
   "source": [
    "pdb = mdshare.fetch('pentapeptide-impl-solv.pdb', working_directory='data')\n",
    "files = mdshare.fetch('pentapeptide-*-500ns-impl-solv.xtc', working_directory='data')\n",
    "\n",
    "feat = pyemma.coordinates.featurizer(pdb)\n",
    "reader = pyemma.coordinates.source([files], features=feat)\n",
    "n_processes = 10\n",
    "lag = 20\n",
    "# ..."
   ]
  },
  {
   "cell_type": "code",
   "execution_count": null,
   "metadata": {},
   "outputs": [],
   "source": [
    "pdb = mdshare.fetch('pentapeptide-impl-solv.pdb', working_directory='data')\n",
    "files = mdshare.fetch('pentapeptide-*-500ns-impl-solv.xtc', working_directory='data')\n",
    "\n",
    "feat = pyemma.coordinates.featurizer(pdb)\n",
    "reader = pyemma.coordinates.source([files], features=feat)\n",
    "n_processes = 10\n",
    "lag = 20\n",
    "\n",
    "def test_feature(feat_name, *args, **kwargs):\n",
    "    feat.active_features = []\n",
    "    getattr(feat, 'add_'+feat_name)(*args, **kwargs)\n",
    "    print('input dimension:', feat.dimension())\n",
    "    v = pyemma.coordinates.vamp(reader, lag=lag, dim=min(n_processes, feat.dimension()))\n",
    "    s = v.score()\n",
    "    return s\n",
    "\n",
    "# define distance pairs, including every 5th neighbour\n",
    "distance_pairs = feat.pairs(np.arange(feat.topology.n_atoms), 5)\n",
    "\n",
    "features = [('backbone_torsions', (), dict(cossin=False)),\n",
    "            ('sidechain_torsions', (), {}),\n",
    "            ('distances_ca', (), {}),\n",
    "            ('distances', (distance_pairs, ), {}),\n",
    "            ('contacts', (feat.topology.select('backbone'), ), {}),\n",
    "           ]\n",
    "results = {}\n",
    "for feat_name, args, kw in features:\n",
    "    print('scoring', feat_name)\n",
    "    score = test_feature(feat_name, *args, **kw)\n",
    "    results[feat_name] = score\n",
    "\n",
    "\n",
    "fig, ax = plt.subplots()\n",
    "for i, (f, score) in enumerate(results.items()):\n",
    "    ax.bar(i, height=score, label = f)\n",
    "ax.legend()\n",
    "ax.set_ylabel('VAMP-2 score')\n",
    "ax.set_xticks([])\n",
    "ax.set_title(r'Input feature score with max dim={dim} and lag $\\tau={tau}$'.format(dim=n_processes, tau=lag));"
   ]
  },
  {
   "cell_type": "markdown",
   "metadata": {},
   "source": [
    "As we see, the most kinetic variance is included within the distance based feature. It also has the highest dimension, so it is not suprising we are able to grasp more slow processes.\n",
    "\n",
    "Now we want to use it in the next excercise."
   ]
  },
  {
   "cell_type": "markdown",
   "metadata": {},
   "source": [
    "**Exercise 2**: Create different state space discretizations on the VAMP projection of the best found feature and compare them in terms of the cross-validated VAMP-2 score of a MSM estimated at a fixed lag time. What do you observe, when you choose too many clusters?"
   ]
  },
  {
   "cell_type": "code",
   "execution_count": null,
   "metadata": {},
   "outputs": [],
   "source": [
    "results_msm = []\n",
    "n_clusters = [10, 50, 100, 150, 200, \n",
    "              300, 500, 800][::-1]\n",
    "feat.active_features = []\n",
    "feat.add_distances(distance_pairs)\n",
    "data = pyemma.coordinates.vamp(reader, dim=n_processes, lag=lag).get_output()[0]\n",
    "\n",
    "def score_discretization(k, init_centers=None):\n",
    "    \"\"\" re-estimate the kmeans object and estimate a new MSM\"\"\"\n",
    "    cl.estimate(data, n_clusters=k)\n",
    "    dtrajs = cl.assign(data)\n",
    "    msm = pyemma.msm.estimate_markov_model(dtrajs, lag=lag)\n",
    "    s = msm.score_cv(dtrajs, score_k=n_processes)\n",
    "    results_msm.append((k, s))\n",
    "\n",
    "# estimate the first kmeans discretization\n",
    "cl = pyemma.coordinates.cluster_kmeans(keep_data=True, max_iter=15)\n",
    "score_discretization(k=n_clusters[0])\n",
    "\n",
    "# w\n",
    "# and iterate these for a while prior estimating and scoring the MSM.\n",
    "for k in n_clusters[1:]:\n",
    "    inds = np.random.randint(0, k, size=k)\n",
    "    new_initial_centers = cl.cluster_centers_[inds]\n",
    "    score_discretization(k)\n"
   ]
  },
  {
   "cell_type": "code",
   "execution_count": null,
   "metadata": {},
   "outputs": [],
   "source": [
    "fig, ax = plt.subplots()\n",
    "opt = 0\n",
    "opt_x = 0\n",
    "for x, scores in results_msm:\n",
    "    y_mean = scores.mean()\n",
    "    if y_mean >= opt:\n",
    "        opt = y_mean\n",
    "        opt_x = x\n",
    "    ax.errorbar(x, y=y_mean, yerr=scores.std(), marker='o')\n",
    "ax.axvline(opt_x, linestyle='--')\n",
    "ax.set_xlabel('Number of centers')\n",
    "ax.set_ylabel('VAMP-2 score')\n",
    "ax.set_title('MSM VAMP-2 score vs. cluster centers');"
   ]
  },
  {
   "cell_type": "markdown",
   "metadata": {},
   "source": [
    "## Wrapping up\n",
    "In this notebook, we have learned how to evaluate the quality of input features in terms of maximizing the amount kinetic information with `pyemma`. In detail, we have used\n",
    "- `pyemma.coordinates.vamp()` to estimate covariances of the input features and score them.\n",
    "- `pyemma.msm.MSM.score()` to judge the final quality of the estimated Markov state model."
   ]
  }
 ],
 "metadata": {
  "kernelspec": {
   "display_name": "Python 3",
   "language": "python",
   "name": "python3"
  },
  "language_info": {
   "codemirror_mode": {
    "name": "ipython",
    "version": 3
   },
   "file_extension": ".py",
   "mimetype": "text/x-python",
   "name": "python",
   "nbconvert_exporter": "python",
   "pygments_lexer": "ipython3",
   "version": "3.6.5"
  }
 },
 "nbformat": 4,
 "nbformat_minor": 2
}
