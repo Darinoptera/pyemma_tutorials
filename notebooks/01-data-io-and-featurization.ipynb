{
 "cells": [
  {
   "cell_type": "markdown",
   "metadata": {},
   "source": [
    "# 01 - Data-I/O and featurization\n",
    "In this notebook, we will cover how to load (and visualize) molecular simulation data.\n",
    "\n",
    "<a rel=\"license\" href=\"http://creativecommons.org/licenses/by/4.0/\"><img alt=\"Creative Commons Licence\" style=\"border-width:0\" src=\"https://i.creativecommons.org/l/by/4.0/88x31.png\" title='This work is licensed under a Creative Commons Attribution 4.0 International License.' align=\"right\"/></a>\n",
    "\n",
    "Maintainers: [@cwehmeyer](https://github.com/cwehmeyer), [@marscher](https://github.com/marscher), [@thempel](https://github.com/thempel), [@psolsson](https://github.com/psolsson)\n",
    "\n",
    "Remember, to\n",
    "- run the currently highlighted cell, hold <kbd>&#x21E7; Shift</kbd> and press <kbd>&#x23ce; Enter</kbd>;\n",
    "- get help for a specific function, place the cursor within the function's brackets, hold <kbd>&#x21E7; Shift</kbd>, and press <kbd>&#x21E5; Tab</kbd>;\n",
    "- find the full documentation at [PyEMMA.org](http://www.pyemma.org)."
   ]
  },
  {
   "cell_type": "code",
   "execution_count": null,
   "metadata": {},
   "outputs": [],
   "source": [
    "%matplotlib inline\n",
    "import matplotlib.pyplot as plt\n",
    "import numpy as np\n",
    "import mdshare\n",
    "import pyemma\n",
    "# for visualization of molecular structures:\n",
    "import nglview\n",
    "import mdtraj\n",
    "from threading import Timer\n",
    "from nglview.player import TrajectoryPlayer"
   ]
  },
  {
   "cell_type": "markdown",
   "metadata": {},
   "source": [
    "## Case 1: preprocessed data (toy model)\n",
    "In the most convenient case, we already have preprocessed time series data available in some kind of archive which can be read using `numpy`:"
   ]
  },
  {
   "cell_type": "code",
   "execution_count": null,
   "metadata": {},
   "outputs": [],
   "source": [
    "file = mdshare.fetch('hmm-doublewell-2d-100k.npz', working_directory='data')\n",
    "with np.load(file) as fh:\n",
    "    data = fh['trajectory']\n",
    "\n",
    "print(data)"
   ]
  },
  {
   "cell_type": "markdown",
   "metadata": {},
   "source": [
    "Once we have the data in memory, we can use one of `pyemma`'s plotting functions to visualize what we have loaded:"
   ]
  },
  {
   "cell_type": "code",
   "execution_count": null,
   "metadata": {},
   "outputs": [],
   "source": [
    "pyemma.plots.plot_feature_histograms(data, feature_labels=['$x$', '$y$']);"
   ]
  },
  {
   "cell_type": "markdown",
   "metadata": {},
   "source": [
    "The `plot_feature_histograms()` function visualizes the distributions of all degrees of freedom where we assume that the columns of `data` represent different features and the rows represent different time steps.\n",
    "\n",
    "While `plot_feature_histograms()` can handle arbitrary numbers of features, we have a additional plotting functions for the special case of two features. First, we visualize the sample density in the $x/y$-plane..."
   ]
  },
  {
   "cell_type": "code",
   "execution_count": null,
   "metadata": {},
   "outputs": [],
   "source": [
    "fig, ax, misc = pyemma.plots.plot_density(*data.T)\n",
    "ax.set_xlabel('$x$')\n",
    "ax.set_ylabel('$y$')\n",
    "ax.set_xlim(-4, 4)\n",
    "ax.set_ylim(-4, 4)\n",
    "ax.set_aspect('equal')\n",
    "fig.tight_layout()"
   ]
  },
  {
   "cell_type": "markdown",
   "metadata": {},
   "source": [
    "... then, we show the corresponding free energy:"
   ]
  },
  {
   "cell_type": "code",
   "execution_count": null,
   "metadata": {},
   "outputs": [],
   "source": [
    "fig, ax, misc = pyemma.plots.plot_free_energy(*data.T, legacy=False)\n",
    "ax.set_xlabel('$x$')\n",
    "ax.set_ylabel('$y$')\n",
    "ax.set_xlim(-4, 4)\n",
    "ax.set_ylim(-4, 4)\n",
    "ax.set_aspect('equal')\n",
    "fig.tight_layout()"
   ]
  },
  {
   "cell_type": "markdown",
   "metadata": {},
   "source": [
    "Both functions make a two-dimensional histogram for the given features; the free energy surface is defined by the negative logarithm of the probability computed from the histogram counts.\n",
    "\n",
    "Please note that these functions visualize the density and free energy of the **sampled data**, not the equilibrium distribution of the underlying system. To account for nonequiblibrium data, you can supply frame-wise weights using the `weights` parameter.\n",
    "\n",
    "## Case 2: loading `*.xtc` files (alanine dipeptide)\n",
    "To load molecular dynamics data from one of the standard file formats ( `*.xtc`), we need not only the actual simulation data, but a topology file, too. This might differ for other formats though."
   ]
  },
  {
   "cell_type": "code",
   "execution_count": null,
   "metadata": {},
   "outputs": [],
   "source": [
    "pdb = mdshare.fetch('alanine-dipeptide-nowater.pdb', working_directory='data')\n",
    "files = mdshare.fetch('alanine-dipeptide-*-250ns-nowater.xtc', working_directory='data')\n",
    "print(pdb)\n",
    "print(files)"
   ]
  },
  {
   "cell_type": "markdown",
   "metadata": {},
   "source": [
    "We can have a look at the structure with the aid of nglview. We first load the PDB file into memory with mdtraj and then visualize it. The widget will auto-close after 30 seconds, if you want to watch it again, please execute the cell below again."
   ]
  },
  {
   "cell_type": "code",
   "execution_count": null,
   "metadata": {},
   "outputs": [],
   "source": [
    "widget = nglview.show_mdtraj(mdtraj.load(pdb))\n",
    "p = TrajectoryPlayer(widget)\n",
    "widget.add_ball_and_stick()\n",
    "p.spin = True\n",
    "def stop_spin():\n",
    "    p.spin = False\n",
    "    widget.close()\n",
    "Timer(30, stop_spin).start()\n",
    "widget"
   ]
  },
  {
   "cell_type": "markdown",
   "metadata": {},
   "source": [
    "We start with creating a featurizer object using the topology file:"
   ]
  },
  {
   "cell_type": "code",
   "execution_count": null,
   "metadata": {},
   "outputs": [],
   "source": [
    "feat = pyemma.coordinates.featurizer(pdb)"
   ]
  },
  {
   "cell_type": "markdown",
   "metadata": {},
   "source": [
    "Next, we start adding features which we want to extract from the simulation data. Here, we want to load the backbone torsions:"
   ]
  },
  {
   "cell_type": "code",
   "execution_count": null,
   "metadata": {},
   "outputs": [],
   "source": [
    "feat.add_backbone_torsions()"
   ]
  },
  {
   "cell_type": "markdown",
   "metadata": {},
   "source": [
    "We can always call the featurizer's `describe()` method to show which features are requested:"
   ]
  },
  {
   "cell_type": "code",
   "execution_count": null,
   "metadata": {},
   "outputs": [],
   "source": [
    "print(feat.describe())"
   ]
  },
  {
   "cell_type": "markdown",
   "metadata": {},
   "source": [
    "After we have selected all desired features, we can call the `load()` function to load all features into memory or, alternatively, the `source()` function to create a streamed feature reader. For now, we will use `load()`:"
   ]
  },
  {
   "cell_type": "code",
   "execution_count": null,
   "metadata": {},
   "outputs": [],
   "source": [
    "data = pyemma.coordinates.load(files, features=feat)\n",
    "\n",
    "print('type of data:', type(data))\n",
    "print('lengths:', len(data))\n",
    "print('shape of elements:', data[0].shape)"
   ]
  },
  {
   "cell_type": "markdown",
   "metadata": {},
   "source": [
    "Apparently, we have loaded a list of three two-dimensional `numpy.ndarray` objects from our three trajectory files. We can visualize these features using the aforementioned plotting functions, but to do so we have to concatenate the three individual trajectories:"
   ]
  },
  {
   "cell_type": "markdown",
   "metadata": {},
   "source": [
    "We can now measure the quantity of kinetic variance of the just selected feature by computing a VAMP-2 score. This score gives us information on the kinetic variance contained in the feature. The minimum value of this score is 1, which corresponds to the invariant measure or the equilibrium.\n",
    "\n",
    "With the dimension parameter we specify the amount of dynamic processes we want to score. This is of importance later on, when we want to compare different input features. If we did not fix this number, we would not have an upper bound for the score."
   ]
  },
  {
   "cell_type": "code",
   "execution_count": null,
   "metadata": {},
   "outputs": [],
   "source": [
    "score_phi_psi = pyemma.coordinates.vamp(\n",
    "    data[:-1], dim=2).score(\n",
    "        test_data=data[-1:],\n",
    "        score_method='VAMP2')\n",
    "print('VAMP2-score: {:f}'.format(score_phi_psi))"
   ]
  },
  {
   "cell_type": "markdown",
   "metadata": {},
   "source": [
    "The score of $\\approx1.5$ means, we have the constant of $1$ plus a total contribution of $0.5$ from the other dynamic process."
   ]
  },
  {
   "cell_type": "code",
   "execution_count": null,
   "metadata": {},
   "outputs": [],
   "source": [
    "data_concatenated = np.concatenate(data)\n",
    "pyemma.plots.plot_feature_histograms(data_concatenated, feature_labels=feat);"
   ]
  },
  {
   "cell_type": "code",
   "execution_count": null,
   "metadata": {},
   "outputs": [],
   "source": [
    "fig, axes = plt.subplots(1, 2, figsize=(10, 4), sharex=True, sharey=True)\n",
    "# the * operator used in a function call is used to unpack\n",
    "# the iterable variable into its single elements. \n",
    "pyemma.plots.plot_density(*data_concatenated.T, ax=axes[0])\n",
    "pyemma.plots.plot_free_energy(*data_concatenated.T, ax=axes[1], legacy=False)\n",
    "for ax in axes.flat:\n",
    "    ax.set_xlabel('$\\Phi$')\n",
    "    ax.set_aspect('equal')\n",
    "axes[0].set_ylabel('$\\Psi$')\n",
    "fig.tight_layout()"
   ]
  },
  {
   "cell_type": "markdown",
   "metadata": {},
   "source": [
    "Let us look at a different featurization example and load the positions of all heavy atoms instead. We create a new featurizer object and use its `add_selection()` method to request the positions of a given selection of atoms. For this selection, we can use the `select_Heavy()` method which returns the indices of all heavy atoms.\n",
    "\n",
    "Again, we load the data into memory and show what we loaded using the `describe()` method:"
   ]
  },
  {
   "cell_type": "code",
   "execution_count": null,
   "metadata": {},
   "outputs": [],
   "source": [
    "feat = pyemma.coordinates.featurizer(pdb)\n",
    "feat.add_selection(feat.select_Heavy())\n",
    "\n",
    "data = pyemma.coordinates.load(files, features=feat)\n",
    "\n",
    "feat.describe()"
   ]
  },
  {
   "cell_type": "markdown",
   "metadata": {},
   "source": [
    "And we visualize the distributions of all loaded features:"
   ]
  },
  {
   "cell_type": "code",
   "execution_count": null,
   "metadata": {},
   "outputs": [],
   "source": [
    "fig, ax = plt.subplots(figsize=(10, 7))\n",
    "pyemma.plots.plot_feature_histograms(np.concatenate(data), feature_labels=feat, ax=ax)\n",
    "fig.tight_layout()"
   ]
  },
  {
   "cell_type": "markdown",
   "metadata": {},
   "source": [
    "Again we have a look at the VAMP-2 score of the heavy atom coordinates."
   ]
  },
  {
   "cell_type": "code",
   "execution_count": null,
   "metadata": {},
   "outputs": [],
   "source": [
    "score_heavy_atoms = pyemma.coordinates.vamp(\n",
    "    data[:-1], dim=2).score(\n",
    "        test_data=data[-1:],\n",
    "        score_method='VAMP2')\n",
    "print('VAMP2-score: {:f}'.format(score_heavy_atoms))"
   ]
  },
  {
   "cell_type": "markdown",
   "metadata": {},
   "source": [
    "As we see, the score for the heavy atom positions is much higher as the one for the $\\phi/\\psi$ torsion angles. We will learn later what this means."
   ]
  },
  {
   "cell_type": "code",
   "execution_count": null,
   "metadata": {},
   "outputs": [],
   "source": [
    "feat = pyemma.coordinates.featurizer(pdb)\n",
    "heavy_atom_distance_pairs = feat.pairs(feat.select_Heavy())\n",
    "feat.add_distances(heavy_atom_distance_pairs)\n",
    "data = pyemma.coordinates.load(files, features=feat)\n",
    "\n",
    "print(feat.describe())"
   ]
  },
  {
   "cell_type": "markdown",
   "metadata": {},
   "source": [
    "Now let us compare the score of heavy atom distance pairs to the other scores."
   ]
  },
  {
   "cell_type": "code",
   "execution_count": null,
   "metadata": {},
   "outputs": [],
   "source": [
    "score_pair_dists_ca = pyemma.coordinates.vamp(\n",
    "    data[:-1]).score(\n",
    "        test_data=data[-1:],\n",
    "        score_method='VAMP2')\n",
    "print('VAMP2-score: {:f}'.format(score_pair_dists_ca))"
   ]
  },
  {
   "cell_type": "markdown",
   "metadata": {},
   "source": [
    "It seems like the heavy atom distance pairs cover a similar amount of kinetic variance as the distances themselfs, but a bit less."
   ]
  },
  {
   "cell_type": "markdown",
   "metadata": {},
   "source": [
    "### `load()` versus `source()`\n",
    "Using `load()`, we put the full data into memory which is possible for all examples in this tutorial:"
   ]
  },
  {
   "cell_type": "code",
   "execution_count": null,
   "metadata": {},
   "outputs": [],
   "source": [
    "print(data)"
   ]
  },
  {
   "cell_type": "markdown",
   "metadata": {},
   "source": [
    "Many real world apllications, though, require more memory than your workstation might provide. For these cases, you should use the `source()` function:"
   ]
  },
  {
   "cell_type": "code",
   "execution_count": null,
   "metadata": {},
   "outputs": [],
   "source": [
    "data = pyemma.coordinates.source(files, features=feat)\n",
    "print(data)"
   ]
  },
  {
   "cell_type": "markdown",
   "metadata": {},
   "source": [
    "This function allows to stream the data and work on chunks instead of the full set. Most of the functions in the `coordinate` sub-package accept data in memory as well as streamed feature readers but some plotting functions can only work with data in memory. To load a (strided) subset into memory, we can use the `get_output()` method with a stride parameter:"
   ]
  },
  {
   "cell_type": "code",
   "execution_count": null,
   "metadata": {},
   "outputs": [],
   "source": [
    "data_output = data.get_output(stride=5)\n",
    "len(data_output)\n",
    "print('number of frames in first file: {}'.format(data.trajectory_length(0)))\n",
    "print('number of frames after striding: {}'.format(len(data_output[0])))"
   ]
  },
  {
   "cell_type": "markdown",
   "metadata": {},
   "source": [
    "We now have loaded every fifth frame into memory and we can visualize the (concatenated) features:"
   ]
  },
  {
   "cell_type": "code",
   "execution_count": null,
   "metadata": {},
   "outputs": [],
   "source": [
    "fig, ax = plt.subplots(figsize=(10, 7))\n",
    "pyemma.plots.plot_feature_histograms(\n",
    "    np.concatenate(data_output), feature_labels=feat, ax=ax)\n",
    "fig.tight_layout()"
   ]
  },
  {
   "cell_type": "markdown",
   "metadata": {},
   "source": [
    "### Testing your progress\n",
    "\n",
    "In the remainder of this notbook, you will find short excercises where you can put your newly learned skills to the test. The exercises are anounced by the keyword **Exercise** and followed by an incomplete cell where you have to fill in missing parts, indicated by\n",
    "```python\n",
    "#FIXME\n",
    "```\n",
    "After that comes a button (**Show Solution**) to reveal the solution.\n",
    "\n",
    "**Exercise 1**: heavy atom distances\n",
    "Please fix the following code block such that the distances between all heavy atoms are loaded and visualized.\n",
    "\n",
    "**Hint**: you might find the `add_distances()` method of the featurizer object helpful."
   ]
  },
  {
   "cell_type": "code",
   "execution_count": null,
   "metadata": {
    "solution2": "hidden",
    "solution2_first": true
   },
   "outputs": [],
   "source": [
    "feat = pyemma.coordinates.featurizer(pdb)\n",
    "pairs = feat.pairs(# FIXME)\n",
    "feat. #FIXME\n",
    "\n",
    "data = pyemma.coordinates.load(files, features=feat)\n",
    "\n",
    "fig, ax = plt.subplots(figsize=(10, 7))\n",
    "pyemma.plots.plot_feature_histograms(np.concatenate(data), feature_labels=feat, ax=ax)\n",
    "fig.tight_layout()"
   ]
  },
  {
   "cell_type": "code",
   "execution_count": null,
   "metadata": {
    "solution2": "hidden"
   },
   "outputs": [],
   "source": [
    "feat = pyemma.coordinates.featurizer(pdb)\n",
    "pairs = feat.pairs(feat.select_Heavy())\n",
    "feat.add_distances(pairs, periodic=False)\n",
    "\n",
    "data = pyemma.coordinates.load(files, features=feat)\n",
    "\n",
    "fig, ax = plt.subplots(figsize=(10, 7))\n",
    "pyemma.plots.plot_feature_histograms(np.concatenate(data), feature_labels=feat, ax=ax)\n",
    "fig.tight_layout()"
   ]
  },
  {
   "cell_type": "markdown",
   "metadata": {},
   "source": [
    "## Case 3: loading `*.xtc` files (pentapeptide)\n",
    "Once we have obtained the raw data files..."
   ]
  },
  {
   "cell_type": "code",
   "execution_count": null,
   "metadata": {},
   "outputs": [],
   "source": [
    "pdb = mdshare.fetch('pentapeptide-impl-solv.pdb', working_directory='data')\n",
    "files = mdshare.fetch('pentapeptide-*-500ns-impl-solv.xtc', working_directory='data')"
   ]
  },
  {
   "cell_type": "markdown",
   "metadata": {},
   "source": [
    "... and had a quick look at the structure again..."
   ]
  },
  {
   "cell_type": "code",
   "execution_count": null,
   "metadata": {},
   "outputs": [],
   "source": [
    "widget = nglview.show_mdtraj(mdtraj.load(pdb))\n",
    "p = TrajectoryPlayer(widget)\n",
    "widget.add_ball_and_stick()\n",
    "p.spin = True\n",
    "def stop_spin():\n",
    "    p.spin = False\n",
    "    widget.close()\n",
    "Timer(30, stop_spin).start()\n",
    "widget"
   ]
  },
  {
   "cell_type": "markdown",
   "metadata": {},
   "source": [
    "... we can load a selection of features into memory. Here, we want the $\\cos/\\sin$ transformations of the backbone and $\\chi_1$ sidechain torsions."
   ]
  },
  {
   "cell_type": "code",
   "execution_count": null,
   "metadata": {},
   "outputs": [],
   "source": [
    "feat = pyemma.coordinates.featurizer(pdb)\n",
    "feat.add_backbone_torsions(cossin=True, periodic=False)\n",
    "feat.add_sidechain_torsions(which='chi1', cossin=True, periodic=False)\n",
    "\n",
    "data = pyemma.coordinates.load(files, features=feat)\n",
    "data_concatenated = np.concatenate(data)\n",
    "\n",
    "print(feat.describe())"
   ]
  },
  {
   "cell_type": "markdown",
   "metadata": {},
   "source": [
    "Finally, we visualize the (concatenated) features:"
   ]
  },
  {
   "cell_type": "code",
   "execution_count": null,
   "metadata": {},
   "outputs": [],
   "source": [
    "fig, ax = plt.subplots(figsize=(10, 7))\n",
    "pyemma.plots.plot_feature_histograms(data_concatenated, feature_labels=feat, ax=ax)\n",
    "fig.tight_layout()"
   ]
  },
  {
   "cell_type": "markdown",
   "metadata": {},
   "source": [
    "### Exercises: feature selection and visualization\n",
    "\n",
    "**Exercise 2**: Complete the following code block to load/visualize the distances between all $\\text{C}_\\alpha$ carbon atoms.\n",
    "\n",
    "**Hint**: You might find the `add_distances_ca()` method of the featurizer object helpful."
   ]
  },
  {
   "cell_type": "code",
   "execution_count": null,
   "metadata": {
    "solution2": "hidden",
    "solution2_first": true
   },
   "outputs": [],
   "source": [
    "feat = pyemma.coordinates.featurizer(pdb)\n",
    "feat. #FIXME\n",
    "\n",
    "data = pyemma.coordinates.load(files, features=feat)\n",
    "data_concatenated = np.concatenate(data)\n",
    "\n",
    "fig, ax = plt.subplots(figsize=(10, 7))\n",
    "pyemma.plots.plot_feature_histograms(data_concatenated, feature_labels=feat, ax=ax)\n",
    "fig.tight_layout()"
   ]
  },
  {
   "cell_type": "code",
   "execution_count": null,
   "metadata": {
    "solution2": "hidden"
   },
   "outputs": [],
   "source": [
    "feat = pyemma.coordinates.featurizer(pdb)\n",
    "feat.add_distances_ca(periodic=False)\n",
    "\n",
    "data = pyemma.coordinates.load(files, features=feat)\n",
    "data_concatenated = np.concatenate(data)\n",
    "\n",
    "fig, ax = plt.subplots(figsize=(10, 7))\n",
    "pyemma.plots.plot_feature_histograms(data_concatenated, feature_labels=feat, ax=ax)\n",
    "fig.tight_layout()"
   ]
  },
  {
   "cell_type": "markdown",
   "metadata": {},
   "source": [
    "**Exercise 3**: Complete the following code block to load/visualize the minimal distances between all residues.\n",
    "\n",
    "**Hint**: You might find the `add_residue_mindist()` method of the featurizer object helpful."
   ]
  },
  {
   "cell_type": "code",
   "execution_count": null,
   "metadata": {
    "solution2": "hidden",
    "solution2_first": true
   },
   "outputs": [],
   "source": [
    "feat = pyemma.coordinates.featurizer(pdb)\n",
    "feat. #FIXME\n",
    "\n",
    "data = pyemma.coordinates.load(files, features=feat)\n",
    "data_concatenated = np.concatenate(data)\n",
    "\n",
    "fig, ax = plt.subplots(figsize=(10, 7))\n",
    "pyemma.plots.plot_feature_histograms(data_concatenated, feature_labels=feat, ax=ax)\n",
    "fig.tight_layout()"
   ]
  },
  {
   "cell_type": "code",
   "execution_count": null,
   "metadata": {
    "solution2": "hidden"
   },
   "outputs": [],
   "source": [
    "feat = pyemma.coordinates.featurizer(pdb)\n",
    "feat.add_residue_mindist(periodic=False)\n",
    "\n",
    "data = pyemma.coordinates.load(files, features=feat)\n",
    "data_concatenated = np.concatenate(data)\n",
    "\n",
    "fig, ax = plt.subplots(figsize=(10, 7))\n",
    "pyemma.plots.plot_feature_histograms(data_concatenated, feature_labels=feat, ax=ax)\n",
    "fig.tight_layout()"
   ]
  },
  {
   "cell_type": "markdown",
   "metadata": {},
   "source": [
    "**Exercise 4**: Complete the following code block to load/visualize the position of all backbone atoms.\n",
    "\n",
    "**Hint**: You might find the `select_Backbone()` method of the featurizer object helpful."
   ]
  },
  {
   "cell_type": "code",
   "execution_count": null,
   "metadata": {
    "solution2": "hidden",
    "solution2_first": true
   },
   "outputs": [],
   "source": [
    "feat = pyemma.coordinates.featurizer(pdb)\n",
    "feat. #FIXME\n",
    "\n",
    "data = pyemma.coordinates.load(files, features=feat)\n",
    "data_concatenated = np.concatenate(data)\n",
    "\n",
    "fig, ax = plt.subplots(figsize=(10, 7))\n",
    "pyemma.plots.plot_feature_histograms(data_concatenated, feature_labels=feat, ax=ax)\n",
    "fig.tight_layout()"
   ]
  },
  {
   "cell_type": "code",
   "execution_count": null,
   "metadata": {
    "solution2": "hidden"
   },
   "outputs": [],
   "source": [
    "feat = pyemma.coordinates.featurizer(pdb)\n",
    "feat.add_selection(feat.select_Backbone())\n",
    "\n",
    "data = pyemma.coordinates.load(files, features=feat)\n",
    "data_concatenated = np.concatenate(data)\n",
    "\n",
    "fig, ax = plt.subplots(figsize=(10, 12))\n",
    "pyemma.plots.plot_feature_histograms(data_concatenated, feature_labels=feat, ax=ax)\n",
    "fig.tight_layout()"
   ]
  },
  {
   "cell_type": "markdown",
   "metadata": {},
   "source": [
    "**Exercise 5**: Complete the following code block to load/visualize the position of all $\\text{C}_\\alpha$ atoms.\n",
    "\n",
    "**Hint**: You might find the `select_Ca()` method of the featurizer object helpful."
   ]
  },
  {
   "cell_type": "code",
   "execution_count": null,
   "metadata": {
    "solution2": "hidden",
    "solution2_first": true
   },
   "outputs": [],
   "source": [
    "feat = pyemma.coordinates.featurizer(pdb)\n",
    "feat. #FIXME\n",
    "\n",
    "data = pyemma.coordinates.load(files, features=feat)\n",
    "data_concatenated = np.concatenate(data)\n",
    "\n",
    "fig, ax = plt.subplots(figsize=(10, 7))\n",
    "pyemma.plots.plot_feature_histograms(data_concatenated, feature_labels=feat, ax=ax)\n",
    "fig.tight_layout()"
   ]
  },
  {
   "cell_type": "code",
   "execution_count": null,
   "metadata": {
    "solution2": "hidden"
   },
   "outputs": [],
   "source": [
    "feat = pyemma.coordinates.featurizer(pdb)\n",
    "feat.add_selection(feat.select_Ca())\n",
    "\n",
    "data = pyemma.coordinates.load(files, features=feat)\n",
    "data_concatenated = np.concatenate(data)\n",
    "\n",
    "fig, ax = plt.subplots(figsize=(10, 7))\n",
    "pyemma.plots.plot_feature_histograms(data_concatenated, feature_labels=feat, ax=ax)\n",
    "fig.tight_layout()"
   ]
  },
  {
   "cell_type": "markdown",
   "metadata": {},
   "source": [
    "## Wrapping up\n",
    "In this notebook, we have learned how to load and visualize molecular simulation data with `pyemma`. In detail, we have used\n",
    "- `pyemma.coordinates.featurizer()` to define a selection of features we want to extract,\n",
    "- `pyemma.coordinates.load()` to load data into memory, and\n",
    "- `pyemma.coordinates.source()` to create a streamed feature reader in case the data does not fit into memory.\n",
    "\n",
    "After loading the data into memory, we have used\n",
    "- `pyemma.coordinates.vamp().score()` to score the quality of the features,\n",
    "- `pyemma.plots.plot_feature_histograms()` to show the distributions of all loaded features,\n",
    "- `pyemma.plots.plot_density()` to visualize the sample density, and\n",
    "- `pyemma.plots.plot_free_energy()` to visualize the free energy surface of two selected features."
   ]
  }
 ],
 "metadata": {
  "kernelspec": {
   "display_name": "Python 3",
   "language": "python",
   "name": "python3"
  },
  "language_info": {
   "codemirror_mode": {
    "name": "ipython",
    "version": 3
   },
   "file_extension": ".py",
   "mimetype": "text/x-python",
   "name": "python",
   "nbconvert_exporter": "python",
   "pygments_lexer": "ipython3",
   "version": "3.6.5"
  },
  "toc": {
   "base_numbering": 1,
   "nav_menu": {},
   "number_sections": false,
   "sideBar": true,
   "skip_h1_title": true,
   "title_cell": "Table of Contents",
   "title_sidebar": "Contents",
   "toc_cell": false,
   "toc_position": {},
   "toc_section_display": true,
   "toc_window_display": true
  }
 },
 "nbformat": 4,
 "nbformat_minor": 2
}
