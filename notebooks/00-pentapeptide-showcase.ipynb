{
 "cells": [
  {
   "cell_type": "code",
   "execution_count": null,
   "metadata": {},
   "outputs": [],
   "source": [
    "import sys\n",
    "sys.path.insert(1, '/home/mi/thempel/mystorage/software/pyemma/')"
   ]
  },
  {
   "cell_type": "code",
   "execution_count": null,
   "metadata": {},
   "outputs": [],
   "source": [
    "%matplotlib inline\n",
    "import matplotlib.pyplot as plt\n",
    "import matplotlib as mpl\n",
    "import numpy as np\n",
    "import mdshare\n",
    "import pyemma"
   ]
  },
  {
   "cell_type": "code",
   "execution_count": null,
   "metadata": {},
   "outputs": [],
   "source": [
    "pdb = mdshare.fetch('pentapeptide-impl-solv.pdb', working_directory='data')\n",
    "files = mdshare.fetch('pentapeptide-*-500ns-impl-solv.dcd', working_directory='data')"
   ]
  },
  {
   "cell_type": "code",
   "execution_count": null,
   "metadata": {},
   "outputs": [],
   "source": [
    "lag = 10\n",
    "dim = 10\n",
    "\n",
    "torsions_feat = pyemma.coordinates.featurizer(pdb)\n",
    "torsions_feat.add_backbone_torsions(cossin=True)\n",
    "torsions_data = pyemma.coordinates.load(files, features=torsions_feat)\n",
    "torsions_vamp = pyemma.coordinates.vamp(torsions_data, lag=lag, dim=dim)\n",
    "scores = [torsions_vamp.score()]\n",
    "labels = ['backbone\\ntorsions']\n",
    "\n",
    "positions_feat = pyemma.coordinates.featurizer(pdb)\n",
    "positions_feat.add_selection(positions_feat.select_Backbone())\n",
    "positions_data = pyemma.coordinates.load(files, features=positions_feat)\n",
    "positions_vamp = pyemma.coordinates.vamp(positions_data, lag=lag, dim=dim)\n",
    "scores += [positions_vamp.score()]\n",
    "labels += ['backbone atom\\npositions']\n",
    "\n",
    "distances_feat = pyemma.coordinates.featurizer(pdb)\n",
    "distances_feat.add_distances(\n",
    "    distances_feat.pairs(distances_feat.select_Backbone(), excluded_neighbors=2))\n",
    "distances_data = pyemma.coordinates.load(files, features=distances_feat)\n",
    "distances_vamp = pyemma.coordinates.vamp(distances_data, lag=lag, dim=dim)\n",
    "scores += [distances_vamp.score()]\n",
    "labels += ['backbone atom\\ndistances']\n",
    "\n",
    "plt.bar(labels, scores)\n",
    "plt.ylabel('VAMP2 score')\n",
    "vamp_bars_plot = dict(labels=labels, scores=scores, dim=dim, lag=lag) # save for later"
   ]
  },
  {
   "cell_type": "code",
   "execution_count": null,
   "metadata": {},
   "outputs": [],
   "source": [
    "lags = [1, 2, 5, 10, 20, 50]\n",
    "dims = [i + 1 for i in range(10)]\n",
    "\n",
    "#vamp_conv_plot = dict() # save for later\n",
    "for lag in lags:\n",
    "    scores = [pyemma.coordinates.vamp(torsions_data, lag=lag, dim=dim).score()\n",
    "              for dim in dims]\n",
    "    plt.plot(dims, scores, label='lag={:.1f}ns'.format(lag * 0.1))\n",
    "    #vamp_conv_plot.update()\n",
    "plt.legend()"
   ]
  },
  {
   "cell_type": "code",
   "execution_count": null,
   "metadata": {},
   "outputs": [],
   "source": [
    "tica = pyemma.coordinates.tica(torsions_data, lag=5)\n",
    "tica_all = np.concatenate(tica.get_output())\n",
    "tica_output = tica.get_output()\n",
    "fig, axes = plt.subplots(1, 2, figsize=(10, 4))\n",
    "pyemma.plots.plot_feature_histograms(tica_all, ax=axes[0])\n",
    "pyemma.plots.plot_density(*tica_all.T[:2], ax=axes[1], logscale=True)\n",
    "fig.tight_layout()"
   ]
  },
  {
   "cell_type": "markdown",
   "metadata": {},
   "source": [
    "Let’s have a look how one of the trajectories looks like in the space of the first three TICA components. We can see that the TICA components nicely resolve the slow transitions as discrete jumps."
   ]
  },
  {
   "cell_type": "code",
   "execution_count": null,
   "metadata": {},
   "outputs": [],
   "source": [
    "fig, axes = plt.subplots(3, 1, figsize=(8,5))\n",
    "x = 0.1 * np.arange(tica_output[0].shape[0])\n",
    "axes[0].plot(x, tica_output[0][:,0])\n",
    "axes[1].plot(x, tica_output[0][:,1])\n",
    "axes[2].plot(x, tica_output[0][:,2])\n",
    "axes[2].set_xlabel('time / ns')\n",
    "for n, ax in enumerate(axes):\n",
    "    ax.set_ylabel('IC {}'.format(n+1))\n",
    "fig.tight_layout()"
   ]
  },
  {
   "cell_type": "markdown",
   "metadata": {},
   "source": [
    "The TICA coordinates are now clustered into a number of discrete states using the $k$-means algorithm. The $k$-means algorithm requires as input the number of clusters. The trajectories are automatically assigned to the cluster centers by calling `cluster.dtrajs`. We can check how this works in the first two TICA dimensions with"
   ]
  },
  {
   "cell_type": "code",
   "execution_count": null,
   "metadata": {},
   "outputs": [],
   "source": [
    "cluster = pyemma.coordinates.cluster_kmeans(tica, k=200, max_iter=50, stride=10)\n",
    "\n",
    "fig, ax = plt.subplots()\n",
    "pyemma.plots.plot_density(*tica_all.T[:2], ax=ax, cbar=False, alpha=0.1)\n",
    "ax.scatter(*cluster.clustercenters.T[:2], s=15, c='C1')"
   ]
  },
  {
   "cell_type": "markdown",
   "metadata": {},
   "source": [
    "The states are well distributed in phase space.\n",
    "\n",
    "\n",
    "Now, we calculate the implied timescales with `pyemma.msm.its()` up to a lagtime of $50$ steps (as defined by `lags=50`). Instead of a single number, an array can be passed to compute the ITS at defined lagtimes. We directly estimate the error bars with Bayesian MSMs. To speed up the computation, this can be disabled."
   ]
  },
  {
   "cell_type": "code",
   "execution_count": null,
   "metadata": {},
   "outputs": [],
   "source": [
    "its = pyemma.msm.its(cluster.dtrajs, lags=50, nits=10, errors='bayes')\n",
    "pyemma.plots.plot_implied_timescales(its, units='ns', dt=.1);"
   ]
  },
  {
   "cell_type": "markdown",
   "metadata": {},
   "source": [
    "It can be seen that the timescales are constant within the error. Below we will select a lag time of $5$ steps ($0.5$ ns) to build a Markov model.The lagtime to estimate the Markov model is specified as `lag` here. As a quick check we print the fraction of states and counts that are in the active set."
   ]
  },
  {
   "cell_type": "code",
   "execution_count": null,
   "metadata": {},
   "outputs": [],
   "source": [
    "msm = pyemma.msm.bayesian_markov_model(cluster.dtrajs, lag=5, dt_traj='0.1 ns')\n",
    "print('fraction of states used = {:f}'.format(msm.active_state_fraction))\n",
    "print('fraction of counts used = {:f}'.format(msm.active_count_fraction))"
   ]
  },
  {
   "cell_type": "markdown",
   "metadata": {},
   "source": [
    "The model is validated with a Chapman-Kolmogorov test. The number of metastable sets to test for is estimated from the implied timescales plot. We find three processes that can be resolved for up to $5$ ns lag times that display a relatively large gap towards the faster processes. To capture those, we need to define $4$ metastable states. This assumption is validated with the Chapman-Kolmogorov test."
   ]
  },
  {
   "cell_type": "code",
   "execution_count": null,
   "metadata": {},
   "outputs": [],
   "source": [
    "pyemma.plots.plot_cktest(msm.cktest(4));"
   ]
  },
  {
   "cell_type": "markdown",
   "metadata": {},
   "source": [
    "The assumption of $4$ metastable states seems to hold.\n",
    "\n",
    "From the MSM which is now stored in the object we called `msm`, various properties can be obtained. We start by analyzing the stationary distribution and the free energy computed over the first two TICA coordinates. The stationary distribution $\\pi$ is stored in `msm.pi` or `msm.stationary_distribution`. We further compute the free energy landscape by re-weighting the trajectory frames with stationary probabilities from the MSM."
   ]
  },
  {
   "cell_type": "code",
   "execution_count": null,
   "metadata": {},
   "outputs": [],
   "source": [
    "fig, axes = plt.subplots(1, 2, figsize=(12, 4))\n",
    "pyemma.plots.plot_contour(*tica_all.T[:2], msm.pi[np.concatenate(cluster.dtrajs)], mask=True, ax=axes[0], cbar_label='stationary distribution')\n",
    "pyemma.plots.plot_free_energy(*tica_all.T[:2], legacy=False, weights=np.concatenate(msm.trajectory_weights()), ax=axes[1])"
   ]
  },
  {
   "cell_type": "markdown",
   "metadata": {},
   "source": [
    "Now we analyze the slowest processes by looking at the distribution of states along the first 3 eigenvectors."
   ]
  },
  {
   "cell_type": "code",
   "execution_count": null,
   "metadata": {},
   "outputs": [],
   "source": [
    "eigvec = msm.eigenvectors_right()\n",
    "print('first eigenvector is one: {} (min={}, max={})'.format(\n",
    "    np.allclose(eigvec[:, 0], 1, atol=1e-15), eigvec[:, 0].min(), eigvec[:, 0].max()))\n",
    "\n",
    "fig, axes = plt.subplots(1, 3, figsize=(12, 3))\n",
    "for i, ax in enumerate(axes.flat):\n",
    "    pyemma.plots.plot_contour(\n",
    "        *tica_all.T[:2], eigvec[np.concatenate(cluster.dtrajs), i + 1], ax=ax, cmap='PiYG',\n",
    "        cbar_label='{}. right eigenvector'.format(i + 2), mask=True)\n",
    "    ax.set_xlabel('IC 1')\n",
    "axes[0].set_ylabel('IC 2')\n",
    "fig.tight_layout()"
   ]
  },
  {
   "cell_type": "markdown",
   "metadata": {},
   "source": [
    "From the sign change of the eigenvectors we extract between which states the corresponding process happens. Since the eigenvectors were internally sorted according to their eigenvalue, they correspond to the slowest processes of the implied timescale plot.\n",
    "\n",
    "Next, we do a coarse graining into a user defined number of macrostates. As already discussed, $4$ is a good choice for this example."
   ]
  },
  {
   "cell_type": "code",
   "execution_count": null,
   "metadata": {},
   "outputs": [],
   "source": [
    "msm.pcca(4)"
   ]
  },
  {
   "cell_type": "markdown",
   "metadata": {},
   "source": [
    "We have now determined the probability for each microstate to belong to a given macrostate. These probabilities are called memberships to a given macrostate."
   ]
  },
  {
   "cell_type": "code",
   "execution_count": null,
   "metadata": {},
   "outputs": [],
   "source": [
    "fig, axes = plt.subplots(1, 4, figsize=(15, 3))\n",
    "for i, ax in enumerate(axes.flat):\n",
    "    pyemma.plots.plot_contour(\n",
    "        *tica_all.T[:2], msm.metastable_distributions[i][np.concatenate(cluster.dtrajs)], ax=ax, cmap='afmhot_r', \n",
    "        mask=True, method='nearest', cbar_label='metastable distribution {}'.format(i))\n",
    "    ax.set_xlabel('IC 1')\n",
    "axes[0].set_ylabel('IC 2')\n",
    "fig.tight_layout()"
   ]
  },
  {
   "cell_type": "markdown",
   "metadata": {},
   "source": [
    "For each macrostate we can generate a number of representative sample structures and store them into a trajectory file."
   ]
  },
  {
   "cell_type": "code",
   "execution_count": null,
   "metadata": {},
   "outputs": [],
   "source": [
    "pcca_samples = msm.sample_by_distributions(msm.metastable_distributions, 10)\n",
    "torsions_source = pyemma.coordinates.source(files, features=torsions_feat)\n",
    "pyemma.coordinates.save_trajs(torsions_source, pcca_samples,  \n",
    "                              outfiles=['./data/pcca1_10samples.xtc','./data/pcca2_10samples.xtc',\n",
    "                                        './data/pcca3_10samples.xtc','./data/pcca4_10samples.xtc'])"
   ]
  },
  {
   "cell_type": "code",
   "execution_count": null,
   "metadata": {},
   "outputs": [],
   "source": [
    "#TODO: visualize metastable structures with nglview"
   ]
  },
  {
   "cell_type": "code",
   "execution_count": null,
   "metadata": {},
   "outputs": [],
   "source": [
    "metastable_traj = msm.metastable_assignments[np.concatenate(cluster.dtrajs)]\n",
    "highest_membership = msm.metastable_distributions.argmax(1)\n",
    "coarse_state_centers = cluster.clustercenters[msm.active_set[highest_membership]]"
   ]
  },
  {
   "cell_type": "code",
   "execution_count": null,
   "metadata": {},
   "outputs": [],
   "source": [
    "nstates = 4\n",
    "mfpt = np.zeros((nstates, nstates))\n",
    "for i in range(nstates):\n",
    "    for j in range(nstates):\n",
    "        mfpt[i, j] = msm.mfpt(\n",
    "            msm.metastable_sets[i],\n",
    "            msm.metastable_sets[j])\n",
    "\n",
    "rate = np.zeros_like(mfpt)\n",
    "nz = mfpt.nonzero()\n",
    "rate[nz] = 1.0 / mfpt[nz]"
   ]
  },
  {
   "cell_type": "code",
   "execution_count": null,
   "metadata": {},
   "outputs": [],
   "source": [
    "cmap = mpl.cm.get_cmap('viridis', nstates)\n",
    "\n",
    "fig, ax = plt.subplots(figsize=(8, 6))\n",
    "pyemma.plots.plot_state_map(*tica_all.T[:2], metastable_traj, ax=ax, zorder=-1)\n",
    "\n",
    "pyemma.plots.plot_network(\n",
    "    rate,\n",
    "    pos=coarse_state_centers,\n",
    "    figpadding=0,\n",
    "    arrow_label_format='%.1f ps',\n",
    "    arrow_labels=mfpt,\n",
    "    size=20,\n",
    "    state_scale=0,\n",
    "    show_frame=True,\n",
    "    ax=ax)\n",
    "\n",
    "#ax.set_xlabel('$\\Phi$')\n",
    "#ax.set_ylabel('$\\Psi$')\n",
    "ax.set_xlim(-2, 8)\n",
    "ax.set_ylim(-2, 8)\n",
    "fig.tight_layout()"
   ]
  },
  {
   "cell_type": "code",
   "execution_count": null,
   "metadata": {},
   "outputs": [],
   "source": [
    "A = msm.metastable_sets[2]\n",
    "B = msm.metastable_sets[1]\n",
    "flux = pyemma.msm.tpt(msm, A, B)\n",
    "A, B"
   ]
  },
  {
   "cell_type": "code",
   "execution_count": null,
   "metadata": {},
   "outputs": [],
   "source": [
    "flux.A"
   ]
  },
  {
   "cell_type": "code",
   "execution_count": null,
   "metadata": {},
   "outputs": [],
   "source": [
    "cg, cgflux = flux.coarse_grain(msm.metastable_sets)\n",
    "cgflux.I, cgflux.A, cgflux.B, cg"
   ]
  },
  {
   "cell_type": "code",
   "execution_count": null,
   "metadata": {},
   "outputs": [],
   "source": [
    "fig, ax = plt.subplots(figsize=(8, 6))\n",
    "\n",
    "pyemma.plots.plot_contour(\n",
    "    *tica_all.T[:2], flux.committor[np.concatenate(cluster.dtrajs)], cmap='brg', ax=ax,\n",
    "    mask=True, method='nearest', cbar_label='committor 0 -> 3', alpha=0.8, zorder=-1);\n",
    "\n",
    "pyemma.plots.plot_flux(cgflux, coarse_state_centers[[1, 0, 3, 2]], cgflux.stationary_distribution, ax=ax, \n",
    "                       show_committor=False, figpadding=0, show_frame=True, arrow_label_format='%2.e / ps')\n",
    "ax.set_xlim(-2, 8)\n",
    "ax.set_ylim(-2, 8)\n",
    "fig.tight_layout()"
   ]
  },
  {
   "cell_type": "code",
   "execution_count": null,
   "metadata": {},
   "outputs": [],
   "source": []
  },
  {
   "cell_type": "code",
   "execution_count": null,
   "metadata": {},
   "outputs": [],
   "source": []
  },
  {
   "cell_type": "code",
   "execution_count": null,
   "metadata": {},
   "outputs": [],
   "source": []
  },
  {
   "cell_type": "code",
   "execution_count": null,
   "metadata": {},
   "outputs": [],
   "source": []
  },
  {
   "cell_type": "code",
   "execution_count": null,
   "metadata": {},
   "outputs": [],
   "source": []
  },
  {
   "cell_type": "code",
   "execution_count": null,
   "metadata": {},
   "outputs": [],
   "source": []
  },
  {
   "cell_type": "code",
   "execution_count": null,
   "metadata": {},
   "outputs": [],
   "source": [
    "hmm = pyemma.msm.bayesian_hidden_markov_model(cluster.dtrajs, 4)"
   ]
  }
 ],
 "metadata": {
  "kernelspec": {
   "display_name": "Python 3",
   "language": "python",
   "name": "python3"
  },
  "language_info": {
   "codemirror_mode": {
    "name": "ipython",
    "version": 3
   },
   "file_extension": ".py",
   "mimetype": "text/x-python",
   "name": "python",
   "nbconvert_exporter": "python",
   "pygments_lexer": "ipython3",
   "version": "3.6.5"
  },
  "toc": {
   "base_numbering": 1,
   "nav_menu": {},
   "number_sections": true,
   "sideBar": true,
   "skip_h1_title": false,
   "title_cell": "Table of Contents",
   "title_sidebar": "Contents",
   "toc_cell": false,
   "toc_position": {},
   "toc_section_display": true,
   "toc_window_display": false
  }
 },
 "nbformat": 4,
 "nbformat_minor": 2
}
