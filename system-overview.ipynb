{
 "cells": [
  {
   "cell_type": "code",
   "execution_count": null,
   "metadata": {},
   "outputs": [],
   "source": [
    "%matplotlib inline\n",
    "import matplotlib.pyplot as plt\n",
    "import numpy as np\n",
    "import mdshare\n",
    "import pyemma"
   ]
  },
  {
   "cell_type": "markdown",
   "metadata": {},
   "source": [
    "## toy model"
   ]
  },
  {
   "cell_type": "code",
   "execution_count": null,
   "metadata": {},
   "outputs": [],
   "source": [
    "file = mdshare.load('hmm-doublewell-2d-100k.npz')\n",
    "with np.load(file) as fh:\n",
    "    data = fh['trajectory']\n",
    "    dtraj = fh['discrete_trajectory']\n",
    "\n",
    "pyemma.plots.plot_free_energy(*data.T);"
   ]
  },
  {
   "cell_type": "markdown",
   "metadata": {},
   "source": [
    "### full feature space"
   ]
  },
  {
   "cell_type": "code",
   "execution_count": null,
   "metadata": {},
   "outputs": [],
   "source": [
    "cluster = pyemma.coordinates.cluster_kmeans(data, k=200)\n",
    "\n",
    "plt.scatter(*data.T, s=0.1, alpha=0.3)\n",
    "plt.scatter(*cluster.clustercenters.T, s=10);"
   ]
  },
  {
   "cell_type": "code",
   "execution_count": null,
   "metadata": {},
   "outputs": [],
   "source": [
    "pyemma.plots.plot_implied_timescales(\n",
    "    pyemma.msm.its(\n",
    "        cluster.dtrajs,\n",
    "        lags=[1, 2, 3, 5, 7, 10],\n",
    "        nits=2,\n",
    "        errors='bayes'),\n",
    "    ylog=False);"
   ]
  },
  {
   "cell_type": "code",
   "execution_count": null,
   "metadata": {},
   "outputs": [],
   "source": [
    "msm = pyemma.msm.estimate_markov_model(cluster.dtrajs, lag=1)\n",
    "\n",
    "nstates = 2\n",
    "pyemma.plots.plot_cktest(msm.cktest(nstates));"
   ]
  },
  {
   "cell_type": "code",
   "execution_count": null,
   "metadata": {},
   "outputs": [],
   "source": [
    "coarse_msm = msm.coarse_grain(nstates)\n",
    "\n",
    "mfpt = np.zeros((nstates, nstates))\n",
    "for i in range(nstates):\n",
    "    for j in range(nstates):\n",
    "        mfpt[i, j] = msm.mfpt(\n",
    "            coarse_msm.metastable_sets[i],\n",
    "            coarse_msm.metastable_sets[j])\n",
    "\n",
    "pyemma.plots.plot_network(\n",
    "    coarse_msm.transition_matrix,\n",
    "    arrow_labels=mfpt,\n",
    "    arrow_label_format='%.1f',\n",
    "    arrow_curvature=1.6,\n",
    "    max_height=3,\n",
    "    size=16);"
   ]
  },
  {
   "cell_type": "code",
   "execution_count": null,
   "metadata": {},
   "outputs": [],
   "source": [
    "plt.scatter(*data.T, s=0.5, c=coarse_msm.metastable_assignments[cluster.dtrajs[0]], alpha=0.3);"
   ]
  },
  {
   "cell_type": "markdown",
   "metadata": {},
   "source": [
    "### dimension reduced space"
   ]
  },
  {
   "cell_type": "code",
   "execution_count": null,
   "metadata": {},
   "outputs": [],
   "source": [
    "pca = pyemma.coordinates.pca(data, dim=1)\n",
    "pca_out = pca.get_output()[0]\n",
    "tica = pyemma.coordinates.tica(data, dim=1, lag=1)\n",
    "tica_out = tica.get_output()[0]\n",
    "\n",
    "fig, (scatter, dist) = plt.subplots(1, 2, figsize=(10, 4))\n",
    "scatter.scatter(*data.T, s=0.1, alpha=0.3, color='grey')\n",
    "scatter.plot(\n",
    "    [0, 3 * abs(pca.eigenvectors[0, 0])],\n",
    "    [0, 3 * abs(pca.eigenvectors[1, 0])],\n",
    "    label='PCA')\n",
    "scatter.plot(\n",
    "    [0, 3 * abs(tica.eigenvectors[0, 0])],\n",
    "    [0, 3 * abs(tica.eigenvectors[1, 0])],\n",
    "    label='TICA')\n",
    "scatter.legend()\n",
    "dist.hist(pca_out, bins=50, alpha=0.3, density=True, label='PCA')\n",
    "dist.hist(tica_out, bins=50, alpha=0.3, density=True, label='TICA')\n",
    "dist.legend()\n",
    "fig.tight_layout()"
   ]
  },
  {
   "cell_type": "code",
   "execution_count": null,
   "metadata": {},
   "outputs": [],
   "source": [
    "centers_pca = np.linspace(pca_out.min(), pca_out.max(), 100)\n",
    "centers_tica = np.linspace(tica_out.min(), tica_out.max(), 100)\n",
    "\n",
    "dtraj_pca = pyemma.coordinates.assign_to_centers(pca_out, centers=centers_pca.reshape(-1, 1))\n",
    "dtraj_tica = pyemma.coordinates.assign_to_centers(tica_out, centers=centers_tica.reshape(-1, 1))\n",
    "\n",
    "fig, axes = plt.subplots(1, 2, figsize=(10, 4))\n",
    "for dtraj, ax in zip([dtraj_pca, dtraj_tica], axes.flat):\n",
    "    pyemma.plots.plot_implied_timescales(\n",
    "        pyemma.msm.its(\n",
    "            dtraj,\n",
    "            lags=[1, 2, 3, 5, 7, 10],\n",
    "            nits=2,\n",
    "            errors='bayes'),\n",
    "        ylog=False,\n",
    "        ax=ax)\n",
    "fig.tight_layout()"
   ]
  },
  {
   "cell_type": "code",
   "execution_count": null,
   "metadata": {},
   "outputs": [],
   "source": [
    "msm = pyemma.msm.estimate_markov_model(dtraj_tica, lag=1)\n",
    "\n",
    "nstates = 2\n",
    "pyemma.plots.plot_cktest(msm.cktest(nstates));"
   ]
  },
  {
   "cell_type": "code",
   "execution_count": null,
   "metadata": {},
   "outputs": [],
   "source": [
    "coarse_msm = msm.coarse_grain(nstates)\n",
    "\n",
    "mfpt = np.zeros((nstates, nstates))\n",
    "for i in range(nstates):\n",
    "    for j in range(nstates):\n",
    "        mfpt[i, j] = msm.mfpt(\n",
    "            coarse_msm.metastable_sets[i],\n",
    "            coarse_msm.metastable_sets[j])\n",
    "\n",
    "pyemma.plots.plot_network(\n",
    "    coarse_msm.transition_matrix,\n",
    "    arrow_labels=mfpt,\n",
    "    arrow_label_format='%.1f',\n",
    "    arrow_curvature=1.6,\n",
    "    max_height=3,\n",
    "    size=16);"
   ]
  },
  {
   "cell_type": "code",
   "execution_count": null,
   "metadata": {},
   "outputs": [],
   "source": []
  },
  {
   "cell_type": "code",
   "execution_count": null,
   "metadata": {},
   "outputs": [],
   "source": []
  },
  {
   "cell_type": "code",
   "execution_count": null,
   "metadata": {},
   "outputs": [],
   "source": []
  },
  {
   "cell_type": "code",
   "execution_count": null,
   "metadata": {},
   "outputs": [],
   "source": []
  },
  {
   "cell_type": "code",
   "execution_count": null,
   "metadata": {},
   "outputs": [],
   "source": []
  },
  {
   "cell_type": "code",
   "execution_count": null,
   "metadata": {},
   "outputs": [],
   "source": []
  },
  {
   "cell_type": "code",
   "execution_count": null,
   "metadata": {},
   "outputs": [],
   "source": []
  },
  {
   "cell_type": "code",
   "execution_count": null,
   "metadata": {},
   "outputs": [],
   "source": []
  },
  {
   "cell_type": "code",
   "execution_count": null,
   "metadata": {},
   "outputs": [],
   "source": []
  },
  {
   "cell_type": "code",
   "execution_count": null,
   "metadata": {},
   "outputs": [],
   "source": []
  },
  {
   "cell_type": "code",
   "execution_count": null,
   "metadata": {},
   "outputs": [],
   "source": []
  },
  {
   "cell_type": "code",
   "execution_count": null,
   "metadata": {},
   "outputs": [],
   "source": []
  },
  {
   "cell_type": "code",
   "execution_count": null,
   "metadata": {},
   "outputs": [],
   "source": []
  },
  {
   "cell_type": "code",
   "execution_count": null,
   "metadata": {},
   "outputs": [],
   "source": []
  },
  {
   "cell_type": "code",
   "execution_count": null,
   "metadata": {},
   "outputs": [],
   "source": []
  },
  {
   "cell_type": "code",
   "execution_count": null,
   "metadata": {},
   "outputs": [],
   "source": []
  },
  {
   "cell_type": "code",
   "execution_count": null,
   "metadata": {},
   "outputs": [],
   "source": []
  },
  {
   "cell_type": "code",
   "execution_count": null,
   "metadata": {},
   "outputs": [],
   "source": []
  },
  {
   "cell_type": "code",
   "execution_count": null,
   "metadata": {},
   "outputs": [],
   "source": []
  },
  {
   "cell_type": "code",
   "execution_count": null,
   "metadata": {},
   "outputs": [],
   "source": []
  },
  {
   "cell_type": "code",
   "execution_count": null,
   "metadata": {},
   "outputs": [],
   "source": []
  }
 ],
 "metadata": {
  "kernelspec": {
   "display_name": "Python 3",
   "language": "python",
   "name": "python3"
  },
  "language_info": {
   "codemirror_mode": {
    "name": "ipython",
    "version": 3
   },
   "file_extension": ".py",
   "mimetype": "text/x-python",
   "name": "python",
   "nbconvert_exporter": "python",
   "pygments_lexer": "ipython3",
   "version": "3.6.1"
  }
 },
 "nbformat": 4,
 "nbformat_minor": 2
}
